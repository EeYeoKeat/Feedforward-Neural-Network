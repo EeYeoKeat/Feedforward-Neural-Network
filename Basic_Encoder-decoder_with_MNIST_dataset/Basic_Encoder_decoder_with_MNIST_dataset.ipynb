{
  "nbformat": 4,
  "nbformat_minor": 0,
  "metadata": {
    "colab": {
      "name": "Basic Encoder-decoder with MNIST dataset.ipynb",
      "provenance": [],
      "collapsed_sections": []
    },
    "kernelspec": {
      "name": "python3",
      "display_name": "Python 3"
    },
    "accelerator": "GPU"
  },
  "cells": [
    {
      "cell_type": "code",
      "metadata": {
        "id": "HlWW8taoIIei",
        "colab_type": "code",
        "colab": {}
      },
      "source": [
        "#%matplotlib inline\n",
        "\n",
        "import numpy as np\n",
        "import tensorflow as tf\n",
        "import matplotlib.pyplot as plt"
      ],
      "execution_count": 0,
      "outputs": []
    },
    {
      "cell_type": "code",
      "metadata": {
        "id": "mYzgfAHzNAbX",
        "colab_type": "code",
        "colab": {
          "base_uri": "https://localhost:8080/",
          "height": 479
        },
        "outputId": "7846d22d-38e6-4517-d79f-55641a3ddedb"
      },
      "source": [
        "from tensorflow.examples.tutorials.mnist import input_data\n",
        "mnist = input_data.read_data_sets('/home/project/imagerecognition', validation_size = 0)"
      ],
      "execution_count": 2,
      "outputs": [
        {
          "output_type": "stream",
          "text": [
            "WARNING:tensorflow:From <ipython-input-2-cd172f19792e>:2: read_data_sets (from tensorflow.contrib.learn.python.learn.datasets.mnist) is deprecated and will be removed in a future version.\n",
            "Instructions for updating:\n",
            "Please use alternatives such as official/mnist/dataset.py from tensorflow/models.\n",
            "WARNING:tensorflow:From /usr/local/lib/python3.6/dist-packages/tensorflow/contrib/learn/python/learn/datasets/mnist.py:260: maybe_download (from tensorflow.contrib.learn.python.learn.datasets.base) is deprecated and will be removed in a future version.\n",
            "Instructions for updating:\n",
            "Please write your own downloading logic.\n",
            "WARNING:tensorflow:From /usr/local/lib/python3.6/dist-packages/tensorflow/contrib/learn/python/learn/datasets/base.py:252: _internal_retry.<locals>.wrap.<locals>.wrapped_fn (from tensorflow.contrib.learn.python.learn.datasets.base) is deprecated and will be removed in a future version.\n",
            "Instructions for updating:\n",
            "Please use urllib or similar directly.\n",
            "Successfully downloaded train-images-idx3-ubyte.gz 9912422 bytes.\n",
            "WARNING:tensorflow:From /usr/local/lib/python3.6/dist-packages/tensorflow/contrib/learn/python/learn/datasets/mnist.py:262: extract_images (from tensorflow.contrib.learn.python.learn.datasets.mnist) is deprecated and will be removed in a future version.\n",
            "Instructions for updating:\n",
            "Please use tf.data to implement this functionality.\n",
            "Extracting /home/project/imagerecognition/train-images-idx3-ubyte.gz\n",
            "Successfully downloaded train-labels-idx1-ubyte.gz 28881 bytes.\n",
            "WARNING:tensorflow:From /usr/local/lib/python3.6/dist-packages/tensorflow/contrib/learn/python/learn/datasets/mnist.py:267: extract_labels (from tensorflow.contrib.learn.python.learn.datasets.mnist) is deprecated and will be removed in a future version.\n",
            "Instructions for updating:\n",
            "Please use tf.data to implement this functionality.\n",
            "Extracting /home/project/imagerecognition/train-labels-idx1-ubyte.gz\n",
            "Successfully downloaded t10k-images-idx3-ubyte.gz 1648877 bytes.\n",
            "Extracting /home/project/imagerecognition/t10k-images-idx3-ubyte.gz\n",
            "Successfully downloaded t10k-labels-idx1-ubyte.gz 4542 bytes.\n",
            "Extracting /home/project/imagerecognition/t10k-labels-idx1-ubyte.gz\n",
            "WARNING:tensorflow:From /usr/local/lib/python3.6/dist-packages/tensorflow/contrib/learn/python/learn/datasets/mnist.py:290: DataSet.__init__ (from tensorflow.contrib.learn.python.learn.datasets.mnist) is deprecated and will be removed in a future version.\n",
            "Instructions for updating:\n",
            "Please use alternatives such as official/mnist/dataset.py from tensorflow/models.\n"
          ],
          "name": "stdout"
        }
      ]
    },
    {
      "cell_type": "code",
      "metadata": {
        "id": "stoGn4HDNFFY",
        "colab_type": "code",
        "colab": {
          "base_uri": "https://localhost:8080/",
          "height": 286
        },
        "outputId": "1901e6ce-4406-49db-df8c-5a95280e0953"
      },
      "source": [
        "img = mnist.train.images[5]\n",
        "plt.imshow(img.reshape((28, 28)), cmap = 'Greys_r')"
      ],
      "execution_count": 3,
      "outputs": [
        {
          "output_type": "execute_result",
          "data": {
            "text/plain": [
              "<matplotlib.image.AxesImage at 0x7f7a482e0978>"
            ]
          },
          "metadata": {
            "tags": []
          },
          "execution_count": 3
        },
        {
          "output_type": "display_data",
          "data": {
            "image/png": "[encoded data removed]",
            "text/plain": [
              "<Figure size 432x288 with 1 Axes>"
            ]
          },
          "metadata": {
            "tags": []
          }
        }
      ]
    },
    {
      "cell_type": "code",
      "metadata": {
        "id": "5Ix5AbTuNWXW",
        "colab_type": "code",
        "colab": {
          "base_uri": "https://localhost:8080/",
          "height": 139
        },
        "outputId": "d0c48e7a-9333-4d8d-f3ce-00bf4f006442"
      },
      "source": [
        "encoding_dim = 32\n",
        "\n",
        "image_size = mnist.train.images.shape[1]\n",
        "\n",
        "inputs = tf.placeholder(tf.float32, (None, image_size))\n",
        "\n",
        "# Initialize the weight for input by matrix\n",
        "w1 = tf.Variable(tf.random_normal([image_size, encoding_dim], stddev= 0.5))\n",
        "b1 = tf.Variable(tf.random_normal([encoding_dim], stddev = 0.1))\n",
        "# Multplication of input matrix and weight with sigmod activation function\n",
        "# Sigmoid function outputs in the range (0, 1)\n",
        "encoded = tf.nn.sigmoid(tf.matmul(inputs, w1) + b1)\n",
        "\n",
        "w2 = tf.Variable(tf.random_normal([encoding_dim, image_size], stddev = 0.5))\n",
        "b2 = tf.Variable(tf.random_normal([image_size], stddev = 0.1))\n",
        "\n",
        "logits = tf.matmul(encoded, w2) + b2\n",
        "decoded = tf.nn.sigmoid(logits)\n",
        "\n",
        "loss = tf.reduce_mean(tf.nn.sigmoid_cross_entropy_with_logits(labels = inputs, logits = logits))\n",
        "opt = tf.train.RMSPropOptimizer(0.01).minimize(loss)"
      ],
      "execution_count": 6,
      "outputs": [
        {
          "output_type": "stream",
          "text": [
            "WARNING:tensorflow:From /usr/local/lib/python3.6/dist-packages/tensorflow/python/ops/nn_impl.py:180: add_dispatch_support.<locals>.wrapper (from tensorflow.python.ops.array_ops) is deprecated and will be removed in a future version.\n",
            "Instructions for updating:\n",
            "Use tf.where in 2.0, which has the same broadcast rule as np.where\n",
            "WARNING:tensorflow:From /usr/local/lib/python3.6/dist-packages/tensorflow/python/training/rmsprop.py:119: calling Ones.__init__ (from tensorflow.python.ops.init_ops) with dtype is deprecated and will be removed in a future version.\n",
            "Instructions for updating:\n",
            "Call initializer instance with the dtype argument instead of passing it to the constructor\n"
          ],
          "name": "stdout"
        }
      ]
    },
    {
      "cell_type": "code",
      "metadata": {
        "id": "mO7BDQ2Eg-Bo",
        "colab_type": "code",
        "colab": {
          "base_uri": "https://localhost:8080/",
          "height": 34
        },
        "outputId": "be942121-eeb5-47d0-8e80-f63c76cae35a"
      },
      "source": [
        "# check the image_size\n",
        "print(image_size)"
      ],
      "execution_count": 7,
      "outputs": [
        {
          "output_type": "stream",
          "text": [
            "784\n"
          ],
          "name": "stdout"
        }
      ]
    },
    {
      "cell_type": "code",
      "metadata": {
        "id": "c7qVzYZxPKSG",
        "colab_type": "code",
        "colab": {
          "base_uri": "https://localhost:8080/",
          "height": 581
        },
        "outputId": "df625afc-d1fb-49e1-a3eb-30dcb7b52187"
      },
      "source": [
        "sess = tf.InteractiveSession()\n",
        "sess.run(tf.global_variables_initializer())\n",
        "\n",
        "EPOCH = 30\n",
        "BATCH_SIZE = 500\n",
        "for i in range(EPOCH):\n",
        "    TOTAL_LOST = 0\n",
        "    for k in range(mnist.train.num_examples // BATCH_SIZE):\n",
        "        batch = mnist.train.next_batch(BATCH_SIZE)\n",
        "        batch_cost, _ = sess.run([loss, opt], feed_dict = {inputs: batch[0]})\n",
        "        TOTAL_LOST += batch_cost\n",
        "    \n",
        "    print ('Epoch:' + str(i + 1) + ', loss: ' + str(TOTAL_LOST / (mnist.train.num_examples // BATCH_SIZE) * 1.0))"
      ],
      "execution_count": 10,
      "outputs": [
        {
          "output_type": "stream",
          "text": [
            "/usr/local/lib/python3.6/dist-packages/tensorflow/python/client/session.py:1735: UserWarning: An interactive session is already active. This can cause out-of-memory errors in some cases. You must explicitly call `InteractiveSession.close()` to release resources held by the other session(s).\n",
            "  warnings.warn('An interactive session is already active. This can '\n"
          ],
          "name": "stderr"
        },
        {
          "output_type": "stream",
          "text": [
            "Epoch:1, loss: 0.9320371925830842\n",
            "Epoch:2, loss: 0.365720792238911\n",
            "Epoch:3, loss: 0.20157867235442004\n",
            "Epoch:4, loss: 0.1685850168267886\n",
            "Epoch:5, loss: 0.15427223990360897\n",
            "Epoch:6, loss: 0.1463764669994513\n",
            "Epoch:7, loss: 0.14158438878754775\n",
            "Epoch:8, loss: 0.13807979027430217\n",
            "Epoch:9, loss: 0.13534539577861626\n",
            "Epoch:10, loss: 0.1329035323113203\n",
            "Epoch:11, loss: 0.13099060182770092\n",
            "Epoch:12, loss: 0.12916005893299978\n",
            "Epoch:13, loss: 0.12731684415290753\n",
            "Epoch:14, loss: 0.1259886628637711\n",
            "Epoch:15, loss: 0.12469409431020419\n",
            "Epoch:16, loss: 0.12357944361865521\n",
            "Epoch:17, loss: 0.12256113632271687\n",
            "Epoch:18, loss: 0.12165021778394779\n",
            "Epoch:19, loss: 0.12075824066996574\n",
            "Epoch:20, loss: 0.12024510198583206\n",
            "Epoch:21, loss: 0.11953456134845813\n",
            "Epoch:22, loss: 0.11887252492209276\n",
            "Epoch:23, loss: 0.11836832519620658\n",
            "Epoch:24, loss: 0.11792124441514412\n",
            "Epoch:25, loss: 0.11736691401650508\n",
            "Epoch:26, loss: 0.11710109058767557\n",
            "Epoch:27, loss: 0.11673787347972393\n",
            "Epoch:28, loss: 0.11646863669157029\n",
            "Epoch:29, loss: 0.116265975125134\n",
            "Epoch:30, loss: 0.11588460939625898\n"
          ],
          "name": "stdout"
        }
      ]
    },
    {
      "cell_type": "code",
      "metadata": {
        "id": "dfnX8KRgg7Xy",
        "colab_type": "code",
        "colab": {
          "base_uri": "https://localhost:8080/",
          "height": 335
        },
        "outputId": "a21375d5-43ac-45c7-e07e-c424a5af0eeb"
      },
      "source": [
        "fig, axes = plt.subplots(nrows =2, ncols =10, sharex = True, sharey = True, figsize = (20,4))\n",
        "in_imgs = mnist.test.images[:10]\n",
        "reconstructed = sess.run(decoded, feed_dict = {inputs: in_imgs})\n",
        "\n",
        "for images, row in zip([in_imgs, reconstructed], axes):\n",
        "    for img, ax in zip(images, row):\n",
        "        ax.imshow(img.reshape((28, 28)), cmap = 'Greys_r')\n",
        "        ax.get_xaxis().set_visible(False)\n",
        "        ax.get_yaxis().set_visible(False)\n",
        "\n",
        "\n",
        "fig.tight_layout(pad = 0.1)"
      ],
      "execution_count": 12,
      "outputs": [
        {
          "output_type": "display_data",
          "data": {
            "image/png": "[encoded data removed]",
            "text/plain": [
              "<Figure size 1440x288 with 20 Axes>"
            ]
          },
          "metadata": {
            "tags": []
          }
        }
      ]
    },
    {
      "cell_type": "code",
      "metadata": {
        "id": "fcUmRk7phzDG",
        "colab_type": "code",
        "colab": {}
      },
      "source": [
        ""
      ],
      "execution_count": 0,
      "outputs": []
    }
  ]
}
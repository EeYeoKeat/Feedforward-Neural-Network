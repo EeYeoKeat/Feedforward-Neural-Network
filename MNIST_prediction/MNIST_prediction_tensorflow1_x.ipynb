{
  "nbformat": 4,
  "nbformat_minor": 0,
  "metadata": {
    "colab": {
      "name": "MNIST_prediction_tensorflow1_x.ipynb",
      "provenance": []
    },
    "kernelspec": {
      "name": "python3",
      "display_name": "Python 3"
    },
    "accelerator": "GPU"
  },
  "cells": [
    {
      "cell_type": "markdown",
      "metadata": {
        "id": "o5YreNwLFMIZ",
        "colab_type": "text"
      },
      "source": [
        "MNIST dataset is a dataset that contains 60,000 training samples and 10,000 testing samples of hand-written and labeled digits, 0 through 9, so ten total \"classes.\" "
      ]
    },
    {
      "cell_type": "code",
      "metadata": {
        "id": "JCODlvXWDFgQ",
        "colab_type": "code",
        "colab": {
          "base_uri": "https://localhost:8080/",
          "height": 187
        },
        "outputId": "7cad0c59-fc80-42a1-c189-6cc15c9ba721"
      },
      "source": [
        "import tensorflow as tf\n",
        "from tensorflow.examples.tutorials.mnist import input_data\n",
        "mnist = input_data.read_data_sets(\"/tmp/data/\", one_hot = True)\n",
        "\n",
        "n_nodes_hl1 = 500\n",
        "n_nodes_hl2 = 500\n",
        "n_nodes_hl3 = 500\n",
        "\n",
        "n_classes = 10\n",
        "batch_size = 100\n",
        "\n",
        "x = tf.placeholder('float', [None, 784])\n",
        "y = tf.placeholder('float')\n",
        "\n",
        "def neural_network_model(data):\n",
        "    hidden_1_layer = {'weights':tf.Variable(tf.random_normal([784, n_nodes_hl1])),\n",
        "                      'biases':tf.Variable(tf.random_normal([n_nodes_hl1]))}\n",
        "\n",
        "    hidden_2_layer = {'weights':tf.Variable(tf.random_normal([n_nodes_hl1, n_nodes_hl2])),\n",
        "                      'biases':tf.Variable(tf.random_normal([n_nodes_hl2]))}\n",
        "\n",
        "    hidden_3_layer = {'weights':tf.Variable(tf.random_normal([n_nodes_hl2, n_nodes_hl3])),\n",
        "                      'biases':tf.Variable(tf.random_normal([n_nodes_hl3]))}\n",
        "\n",
        "    output_layer = {'weights':tf.Variable(tf.random_normal([n_nodes_hl3, n_classes])),\n",
        "                    'biases':tf.Variable(tf.random_normal([n_classes])),}\n",
        "\n",
        "\n",
        "    l1 = tf.add(tf.matmul(data,hidden_1_layer['weights']), hidden_1_layer['biases'])\n",
        "    l1 = tf.nn.relu(l1)\n",
        "\n",
        "    l2 = tf.add(tf.matmul(l1,hidden_2_layer['weights']), hidden_2_layer['biases'])\n",
        "    l2 = tf.nn.relu(l2)\n",
        "\n",
        "    l3 = tf.add(tf.matmul(l2,hidden_3_layer['weights']), hidden_3_layer['biases'])\n",
        "    l3 = tf.nn.relu(l3)\n",
        "\n",
        "    output = tf.matmul(l3,output_layer['weights']) + output_layer['biases']\n",
        "\n",
        "    return output\n",
        "\n",
        "def train_neural_network(x):\n",
        "    prediction = neural_network_model(x)\n",
        "    cost = tf.reduce_mean( tf.nn.softmax_cross_entropy_with_logits(logits=prediction, labels=y) )\n",
        "    optimizer = tf.train.AdamOptimizer().minimize(cost)\n",
        "    \n",
        "    hm_epochs = 500\n",
        "    with tf.Session() as sess:\n",
        "        sess.run(tf.global_variables_initializer())\n",
        "\n",
        "        for epoch in range(hm_epochs):\n",
        "            epoch_loss = 0\n",
        "            for _ in range(int(mnist.train.num_examples/batch_size)):\n",
        "                epoch_x, epoch_y = mnist.train.next_batch(batch_size)\n",
        "                _, c = sess.run([optimizer, cost], feed_dict={x: epoch_x, y: epoch_y})\n",
        "                epoch_loss += c\n",
        "            if epoch % 100 == 0:\n",
        "              print('Epoch', epoch, 'completed out of',hm_epochs,'loss:',epoch_loss)\n",
        "\n",
        "        correct = tf.equal(tf.argmax(prediction, 1), tf.argmax(y, 1))\n",
        "\n",
        "        accuracy = tf.reduce_mean(tf.cast(correct, 'float'))\n",
        "        print('Accuracy:',accuracy.eval({x:mnist.test.images, y:mnist.test.labels}))\n",
        "\n",
        "train_neural_network(x)"
      ],
      "execution_count": 3,
      "outputs": [
        {
          "output_type": "stream",
          "text": [
            "Extracting /tmp/data/train-images-idx3-ubyte.gz\n",
            "Extracting /tmp/data/train-labels-idx1-ubyte.gz\n",
            "Extracting /tmp/data/t10k-images-idx3-ubyte.gz\n",
            "Extracting /tmp/data/t10k-labels-idx1-ubyte.gz\n",
            "Epoch 0 completed out of 500 loss: 1755541.3717346191\n",
            "Epoch 100 completed out of 500 loss: 3623.529399305582\n",
            "Epoch 200 completed out of 500 loss: 1430.8045253753662\n",
            "Epoch 300 completed out of 500 loss: 0.0\n",
            "Epoch 400 completed out of 500 loss: 0.0\n",
            "Accuracy: 0.9806\n"
          ],
          "name": "stdout"
        }
      ]
    }
  ]
}
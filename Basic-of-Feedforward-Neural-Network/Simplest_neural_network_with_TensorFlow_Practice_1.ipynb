{
  "nbformat": 4,
  "nbformat_minor": 0,
  "metadata": {
    "colab": {
      "name": "Simplest neural network with TensorFlow - Practice 1.ipynb",
      "provenance": []
    },
    "kernelspec": {
      "name": "python3",
      "display_name": "Python 3"
    },
    "accelerator": "GPU"
  },
  "cells": [
    {
      "cell_type": "markdown",
      "metadata": {
        "id": "opZK2kWchya6",
        "colab_type": "text"
      },
      "source": [
        "**Without Neural Network**"
      ]
    },
    {
      "cell_type": "code",
      "metadata": {
        "id": "GYNLKiXtcgg-",
        "colab_type": "code",
        "colab": {
          "base_uri": "https://localhost:8080/",
          "height": 63
        },
        "outputId": "e1cb04a3-d958-48ad-ba80-54d2859fb7a7"
      },
      "source": [
        "import numpy as np\n",
        "import tensorflow as tf"
      ],
      "execution_count": 1,
      "outputs": [
        {
          "output_type": "display_data",
          "data": {
            "text/html": [
              "<p style=\"color: red;\">\n",
              "The default version of TensorFlow in Colab will soon switch to TensorFlow 2.x.<br>\n",
              "We recommend you <a href=\"https://www.tensorflow.org/guide/migrate\" target=\"_blank\">upgrade</a> now \n",
              "or ensure your notebook will continue to use TensorFlow 1.x via the <code>%tensorflow_version 1.x</code> magic:\n",
              "<a href=\"https://colab.research.google.com/notebooks/tensorflow_version.ipynb\" target=\"_blank\">more info</a>.</p>\n"
            ],
            "text/plain": [
              "<IPython.core.display.HTML object>"
            ]
          },
          "metadata": {
            "tags": []
          }
        }
      ]
    },
    {
      "cell_type": "code",
      "metadata": {
        "id": "Yxb_K1Thgjdv",
        "colab_type": "code",
        "colab": {
          "base_uri": "https://localhost:8080/",
          "height": 85
        },
        "outputId": "328894dc-4905-48e2-f701-c4c86283203f"
      },
      "source": [
        "a = tf.constant(3.0, dtype=tf.float32)\n",
        "b = tf.constant(4.0) # also tf.float32 implicitly\n",
        "c = tf.constant(5.0)\n",
        "total = a + b + c\n",
        "print(a)\n",
        "print(b)\n",
        "print(c)\n",
        "print(total)"
      ],
      "execution_count": 2,
      "outputs": [
        {
          "output_type": "stream",
          "text": [
            "Tensor(\"Const:0\", shape=(), dtype=float32)\n",
            "Tensor(\"Const_1:0\", shape=(), dtype=float32)\n",
            "Tensor(\"Const_2:0\", shape=(), dtype=float32)\n",
            "Tensor(\"add_1:0\", shape=(), dtype=float32)\n"
          ],
          "name": "stdout"
        }
      ]
    },
    {
      "cell_type": "code",
      "metadata": {
        "id": "4xec_d1kgqVw",
        "colab_type": "code",
        "colab": {
          "base_uri": "https://localhost:8080/",
          "height": 34
        },
        "outputId": "cccb909b-b4f5-4a81-db43-5ba9310efb3c"
      },
      "source": [
        "sess = tf.Session()\n",
        "print(sess.run(total))"
      ],
      "execution_count": 3,
      "outputs": [
        {
          "output_type": "stream",
          "text": [
            "12.0\n"
          ],
          "name": "stdout"
        }
      ]
    },
    {
      "cell_type": "code",
      "metadata": {
        "id": "7hwa1tv8guKi",
        "colab_type": "code",
        "colab": {
          "base_uri": "https://localhost:8080/",
          "height": 34
        },
        "outputId": "5426a627-8554-401e-810a-fea6088a549e"
      },
      "source": [
        "print(sess.run({'abc':(a, b, c), 'total':total}))"
      ],
      "execution_count": 4,
      "outputs": [
        {
          "output_type": "stream",
          "text": [
            "{'abc': (3.0, 4.0, 5.0), 'total': 12.0}\n"
          ],
          "name": "stdout"
        }
      ]
    },
    {
      "cell_type": "code",
      "metadata": {
        "id": "1F5p1yPQg7HW",
        "colab_type": "code",
        "colab": {}
      },
      "source": [
        "x = tf.placeholder(tf.float32)\n",
        "y = tf.placeholder(tf.float32)\n",
        "z = x * y"
      ],
      "execution_count": 0,
      "outputs": []
    },
    {
      "cell_type": "code",
      "metadata": {
        "id": "0YMh3u1lhc84",
        "colab_type": "code",
        "colab": {
          "base_uri": "https://localhost:8080/",
          "height": 34
        },
        "outputId": "8998ab31-8fa9-45df-8555-fc402deb30a9"
      },
      "source": [
        "print(sess.run(z, feed_dict={x:5, y:2}))"
      ],
      "execution_count": 6,
      "outputs": [
        {
          "output_type": "stream",
          "text": [
            "10.0\n"
          ],
          "name": "stdout"
        }
      ]
    },
    {
      "cell_type": "markdown",
      "metadata": {
        "id": "XCWlnoJSh9At",
        "colab_type": "text"
      },
      "source": [
        "**With Basic Neural Network**"
      ]
    },
    {
      "cell_type": "code",
      "metadata": {
        "id": "YU69Yv0zh5pb",
        "colab_type": "code",
        "colab": {}
      },
      "source": [
        "x = tf.constant([[10],[20],[3],[4]],dtype=tf.float32)\n",
        "linear_model = tf.layers.Dense(units=1)\n",
        "y = linear_model(x)"
      ],
      "execution_count": 0,
      "outputs": []
    },
    {
      "cell_type": "code",
      "metadata": {
        "id": "G7xgUwr9htmq",
        "colab_type": "code",
        "colab": {}
      },
      "source": [
        "# Calling tf.global_variables_initializer only creates and returns a handle to a TensorFlow operation.\n",
        "#That op will initialize all the global variables when we run it with tf.Session.run.\n",
        "init = tf.global_variables_initializer()\n",
        "sess = tf.Session()\n",
        "sess.run(init)"
      ],
      "execution_count": 0,
      "outputs": []
    },
    {
      "cell_type": "code",
      "metadata": {
        "id": "8ouHMWWVjtGC",
        "colab_type": "code",
        "colab": {}
      },
      "source": [
        "y_true = tf.constant([[1],[2],[30],[40]])"
      ],
      "execution_count": 0,
      "outputs": []
    },
    {
      "cell_type": "code",
      "metadata": {
        "id": "sczFxyfWkibv",
        "colab_type": "code",
        "colab": {
          "base_uri": "https://localhost:8080/",
          "height": 34
        },
        "outputId": "a10ac12e-1b88-47c4-a093-19a46f40ed6b"
      },
      "source": [
        "y_pred = linear_model(x)\n",
        "print(y_pred)"
      ],
      "execution_count": 10,
      "outputs": [
        {
          "output_type": "stream",
          "text": [
            "Tensor(\"dense/BiasAdd_1:0\", shape=(4, 1), dtype=float32)\n"
          ],
          "name": "stdout"
        }
      ]
    },
    {
      "cell_type": "code",
      "metadata": {
        "id": "IrQqtvkjkzkh",
        "colab_type": "code",
        "colab": {
          "base_uri": "https://localhost:8080/",
          "height": 85
        },
        "outputId": "4c91f6ed-a81c-4e0f-da24-acce55d70372"
      },
      "source": [
        "print(sess.run(y_pred))"
      ],
      "execution_count": 12,
      "outputs": [
        {
          "output_type": "stream",
          "text": [
            "[[-4.166664 ]\n",
            " [-8.333328 ]\n",
            " [-1.2499992]\n",
            " [-1.6666656]]\n"
          ],
          "name": "stdout"
        }
      ]
    },
    {
      "cell_type": "code",
      "metadata": {
        "id": "9jgULAQtLiJJ",
        "colab_type": "code",
        "colab": {
          "base_uri": "https://localhost:8080/",
          "height": 105
        },
        "outputId": "27e378fa-1975-464f-a484-ee607e4258aa"
      },
      "source": [
        "loss = tf.losses.mean_squared_error(labels=y_true, predictions=y)\n",
        "\n",
        "print(sess.run(loss))"
      ],
      "execution_count": 13,
      "outputs": [
        {
          "output_type": "stream",
          "text": [
            "WARNING:tensorflow:From /usr/local/lib/python3.6/dist-packages/tensorflow_core/python/ops/losses/losses_impl.py:121: where (from tensorflow.python.ops.array_ops) is deprecated and will be removed in a future version.\n",
            "Instructions for updating:\n",
            "Use tf.where in 2.0, which has the same broadcast rule as np.where\n",
            "711.5364\n"
          ],
          "name": "stdout"
        }
      ]
    },
    {
      "cell_type": "code",
      "metadata": {
        "id": "kXHu3-_bLw_d",
        "colab_type": "code",
        "colab": {}
      },
      "source": [
        "optimizer = tf.train.GradientDescentOptimizer(0.01)\n",
        "train = optimizer.minimize(loss)"
      ],
      "execution_count": 0,
      "outputs": []
    },
    {
      "cell_type": "code",
      "metadata": {
        "id": "STEqqli8Q0q8",
        "colab_type": "code",
        "colab": {
          "base_uri": "https://localhost:8080/",
          "height": 1000
        },
        "outputId": "3cd77b48-c4c1-47cd-af70-203718811fc1"
      },
      "source": [
        "for i in range(100):\n",
        "  _, loss_value = sess.run((train, loss))\n",
        "  print(loss_value)"
      ],
      "execution_count": 15,
      "outputs": [
        {
          "output_type": "stream",
          "text": [
            "711.5364\n",
            "923.63666\n",
            "1504.0325\n",
            "3072.513\n",
            "7292.1504\n",
            "18625.438\n",
            "49046.496\n",
            "130685.29\n",
            "349755.53\n",
            "937593.0\n",
            "2514935.8\n",
            "6747401.0\n",
            "18104304.0\n",
            "48578090.0\n",
            "130347840.0\n",
            "349759170.0\n",
            "938501600.0\n",
            "2518263300.0\n",
            "6757207600.0\n",
            "18131495000.0\n",
            "48651887000.0\n",
            "130546670000.0\n",
            "350293430000.0\n",
            "939935900000.0\n",
            "2522112300000.0\n",
            "6767539400000.0\n",
            "18159216000000.0\n",
            "48726295000000.0\n",
            "130746400000000.0\n",
            "350829300000000.0\n",
            "941373800000000.0\n",
            "2525971000000000.0\n",
            "6777891000000000.0\n",
            "1.8186994e+16\n",
            "4.8800814e+16\n",
            "1.3094634e+17\n",
            "3.5136588e+17\n",
            "9.428136e+17\n",
            "2.5298341e+18\n",
            "6.7882583e+18\n",
            "1.8214806e+19\n",
            "4.8875464e+19\n",
            "1.3114665e+20\n",
            "3.5190336e+20\n",
            "9.442556e+20\n",
            "2.5337038e+21\n",
            "6.7986385e+21\n",
            "1.8242663e+22\n",
            "4.89502e+22\n",
            "1.313472e+23\n",
            "3.5244155e+23\n",
            "9.457e+23\n",
            "2.53758e+24\n",
            "6.8090414e+24\n",
            "1.8270574e+25\n",
            "4.9025105e+25\n",
            "1.3154817e+26\n",
            "3.5298085e+26\n",
            "9.471468e+26\n",
            "2.5414614e+27\n",
            "6.819455e+27\n",
            "1.8298521e+28\n",
            "4.9100097e+28\n",
            "1.3174934e+29\n",
            "3.535206e+29\n",
            "9.485955e+29\n",
            "2.5453492e+30\n",
            "6.829889e+30\n",
            "1.8326516e+31\n",
            "4.9175214e+31\n",
            "1.31950965e+32\n",
            "3.540616e+32\n",
            "9.50047e+32\n",
            "2.549244e+33\n",
            "6.84034e+33\n",
            "1.8354556e+34\n",
            "4.925044e+34\n",
            "1.3215284e+35\n",
            "3.5460323e+35\n",
            "9.515006e+35\n",
            "2.5531443e+36\n",
            "6.850805e+36\n",
            "1.838264e+37\n",
            "4.9325816e+37\n",
            "inf\n",
            "inf\n",
            "inf\n",
            "inf\n",
            "inf\n",
            "inf\n",
            "inf\n",
            "inf\n",
            "inf\n",
            "inf\n",
            "inf\n",
            "inf\n",
            "inf\n",
            "inf\n",
            "inf\n",
            "inf\n"
          ],
          "name": "stdout"
        }
      ]
    },
    {
      "cell_type": "code",
      "metadata": {
        "id": "zkhxCk4rQ6np",
        "colab_type": "code",
        "colab": {
          "base_uri": "https://localhost:8080/",
          "height": 85
        },
        "outputId": "e3b3d8c5-37ed-4be6-d5ab-2e8638559b32"
      },
      "source": [
        "print(sess.run(y_pred))"
      ],
      "execution_count": 16,
      "outputs": [
        {
          "output_type": "stream",
          "text": [
            "[[-2.7042609e+22]\n",
            " [-5.3895468e+22]\n",
            " [-8.2456073e+21]\n",
            " [-1.0930893e+22]]\n"
          ],
          "name": "stdout"
        }
      ]
    },
    {
      "cell_type": "markdown",
      "metadata": {
        "id": "WBQYsQQbRzzq",
        "colab_type": "text"
      },
      "source": [
        "The model is to totally cant predict the value as the actual function is not linear. Below example is a linear model prediction."
      ]
    },
    {
      "cell_type": "code",
      "metadata": {
        "id": "os1LzBw7Rxib",
        "colab_type": "code",
        "colab": {}
      },
      "source": [
        "x = tf.constant([[1], [2], [3], [4]], dtype=tf.float32)\n",
        "# the expected output for each input, y_true\n",
        "y_true = tf.constant([[0], [-1], [-2], [-3]], dtype=tf.float32)"
      ],
      "execution_count": 0,
      "outputs": []
    },
    {
      "cell_type": "code",
      "metadata": {
        "id": "zuyvw9LmTEQW",
        "colab_type": "code",
        "colab": {}
      },
      "source": [
        "linear_model = tf.layers.Dense(units=1)\n",
        "y_pred = linear_model(x)"
      ],
      "execution_count": 0,
      "outputs": []
    },
    {
      "cell_type": "code",
      "metadata": {
        "id": "VvKWQ3neTHn4",
        "colab_type": "code",
        "colab": {
          "base_uri": "https://localhost:8080/",
          "height": 85
        },
        "outputId": "f9d2959e-695d-4c60-ffc4-7d13219e7bf3"
      },
      "source": [
        "sess = tf.Session()\n",
        "init = tf.global_variables_initializer()\n",
        "sess.run(init)\n",
        "\n",
        "print(sess.run(y_pred))"
      ],
      "execution_count": 25,
      "outputs": [
        {
          "output_type": "stream",
          "text": [
            "[[1.2462496]\n",
            " [2.492499 ]\n",
            " [3.7387486]\n",
            " [4.984998 ]]\n"
          ],
          "name": "stdout"
        }
      ]
    },
    {
      "cell_type": "code",
      "metadata": {
        "id": "yLGUyLP0UuXF",
        "colab_type": "code",
        "colab": {
          "base_uri": "https://localhost:8080/",
          "height": 34
        },
        "outputId": "b7ca93d7-f866-4693-fc97-f58045b328d9"
      },
      "source": [
        "loss = tf.losses.mean_squared_error(labels=y_true, predictions=y_pred)\n",
        "print(sess.run(loss))"
      ],
      "execution_count": 26,
      "outputs": [
        {
          "output_type": "stream",
          "text": [
            "27.61103\n"
          ],
          "name": "stdout"
        }
      ]
    },
    {
      "cell_type": "code",
      "metadata": {
        "id": "p7RnpT8XTScx",
        "colab_type": "code",
        "colab": {}
      },
      "source": [
        "optimizer = tf.train.GradientDescentOptimizer(0.01)\n",
        "train = optimizer.minimize(loss)"
      ],
      "execution_count": 0,
      "outputs": []
    },
    {
      "cell_type": "code",
      "metadata": {
        "id": "MYJ4IZY3TfIA",
        "colab_type": "code",
        "colab": {
          "base_uri": "https://localhost:8080/",
          "height": 34
        },
        "outputId": "38609f2a-43fa-4d1e-97b3-ee0577e89fc7"
      },
      "source": [
        "for i in range(1000):\n",
        "  _, loss_value = sess.run((train, loss))\n",
        "\n",
        "print(loss_value)"
      ],
      "execution_count": 32,
      "outputs": [
        {
          "output_type": "stream",
          "text": [
            "2.8595636e-05\n"
          ],
          "name": "stdout"
        }
      ]
    },
    {
      "cell_type": "code",
      "metadata": {
        "id": "EW4mDRlnTzaL",
        "colab_type": "code",
        "colab": {
          "base_uri": "https://localhost:8080/",
          "height": 85
        },
        "outputId": "eff3ccfe-e7f0-43f3-ce7c-7926563aa235"
      },
      "source": [
        "print(sess.run(y_pred))"
      ],
      "execution_count": 33,
      "outputs": [
        {
          "output_type": "stream",
          "text": [
            "[[-0.0086087]\n",
            " [-1.0041716]\n",
            " [-1.9997344]\n",
            " [-2.9952972]]\n"
          ],
          "name": "stdout"
        }
      ]
    },
    {
      "cell_type": "code",
      "metadata": {
        "id": "scjEYG_tU2fq",
        "colab_type": "code",
        "colab": {}
      },
      "source": [
        ""
      ],
      "execution_count": 0,
      "outputs": []
    }
  ]
}
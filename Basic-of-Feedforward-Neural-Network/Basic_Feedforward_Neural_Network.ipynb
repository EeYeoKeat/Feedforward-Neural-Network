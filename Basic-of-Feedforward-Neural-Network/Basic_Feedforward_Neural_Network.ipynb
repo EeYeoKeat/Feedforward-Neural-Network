{
  "nbformat": 4,
  "nbformat_minor": 0,
  "metadata": {
    "colab": {
      "name": "Basic-Feedforward-Neural-Network.ipynb",
      "provenance": [],
      "collapsed_sections": []
    },
    "kernelspec": {
      "name": "python3",
      "display_name": "Python 3"
    },
    "accelerator": "GPU"
  },
  "cells": [
    {
      "cell_type": "code",
      "metadata": {
        "id": "S6yWqiENSaOg",
        "colab_type": "code",
        "colab": {
          "base_uri": "https://localhost:8080/",
          "height": 153
        },
        "outputId": "88f8ddf3-1923-4e08-ed6a-a1e9a743b83c"
      },
      "source": [
        "import numpy as np\n",
        "\n",
        "# initialize a data array with 3 x 4 matrix\n",
        "# 3 input nodes to the network and 4 training examples.\n",
        "input_data = np.array([[0,0,1],\n",
        "                      [0,1,1],\n",
        "                      [1,0,1],\n",
        "                      [1,1,1]])\n",
        "\n",
        "# while output is label with 4 x 1 matrix            \n",
        "output_labels = np.array([[0],\n",
        "                          [1],\n",
        "                          [1],\n",
        "                          [0]])\n",
        "\n",
        "# Print the input data and output\n",
        "print(input_data)\n",
        "print(output_labels)"
      ],
      "execution_count": 17,
      "outputs": [
        {
          "output_type": "stream",
          "text": [
            "[[0 0 1]\n",
            " [0 1 1]\n",
            " [1 0 1]\n",
            " [1 1 1]]\n",
            "[[0]\n",
            " [1]\n",
            " [1]\n",
            " [0]]\n"
          ],
          "name": "stdout"
        }
      ]
    },
    {
      "cell_type": "markdown",
      "metadata": {
        "id": "vEJO1loaB-pB",
        "colab_type": "text"
      },
      "source": [
        "Construct the sigmoid function to provide probability as output"
      ]
    },
    {
      "cell_type": "code",
      "metadata": {
        "id": "UVaXMZF24VBZ",
        "colab_type": "code",
        "colab": {}
      },
      "source": [
        "# sigmoid function\n",
        "def activate(x,deriv=False):\n",
        "    if(deriv==True):\n",
        "        return x*(1-x)\n",
        "    # Logistic Function\n",
        "    return 1/(1+np.exp(-x))"
      ],
      "execution_count": 0,
      "outputs": []
    },
    {
      "cell_type": "code",
      "metadata": {
        "id": "lncS1k05440M",
        "colab_type": "code",
        "colab": {
          "base_uri": "https://localhost:8080/",
          "height": 136
        },
        "outputId": "68f4a5b1-a771-463e-9dfb-898eeffba102"
      },
      "source": [
        "# Random initialize values for weight of output\n",
        "#it is a neural network with two layers of weights\n",
        "# Since the input is 3 x 4 matrix, it initialized randomly\n",
        "# which requires a matrix of dimensionality (3,4)\n",
        "weight_0 = 2*np.random.random((3,4)) - 1\n",
        "\n",
        "# Initialize randomly as output label is 4 x 1 matrix \n",
        "weight_1 = 2*np.random.random((4,1)) - 1\n",
        "\n",
        "# check the values of weight\n",
        "print(weight_0)\n",
        "print(weight_1)"
      ],
      "execution_count": 19,
      "outputs": [
        {
          "output_type": "stream",
          "text": [
            "[[ 0.91577906  0.06633057  0.38375423 -0.36896874]\n",
            " [ 0.37300186  0.66925134 -0.96342345  0.50028863]\n",
            " [ 0.97772218  0.49633131 -0.43911202  0.57855866]]\n",
            "[[-0.79354799]\n",
            " [-0.10421295]\n",
            " [ 0.81719101]\n",
            " [-0.4127717 ]]\n"
          ],
          "name": "stdout"
        }
      ]
    },
    {
      "cell_type": "code",
      "metadata": {
        "id": "UPVrhysnDav3",
        "colab_type": "code",
        "colab": {
          "base_uri": "https://localhost:8080/",
          "height": 119
        },
        "outputId": "2b48b9a0-b045-4e50-9e08-709980e0c8ad"
      },
      "source": [
        "for j in range(60000):\n",
        "\n",
        "\t# Forward propagate through layers 0, 1, and 2\n",
        "    layer0 = input_data\n",
        "    layer1 = activate(np.dot(layer0,weight_0))\n",
        "    layer2 = activate(np.dot(layer1,weight_1))\n",
        "\n",
        "    #calculate error for layer 2\n",
        "    layer2_error = output_labels - layer2\n",
        "    \n",
        "    if (j% 10000) == 0:\n",
        "        print (\"Error:\" + str(np.mean(np.abs(layer2_error))))\n",
        "        \n",
        "    #Use it to compute the gradient\n",
        "    layer2_gradient = layer2_error*activate(layer2,deriv=True)\n",
        "\n",
        "    #calculate error for layer 1\n",
        "    layer1_error = layer2_gradient.dot(weight_1.T)\n",
        "    \n",
        "    #Use it to compute its gradient\n",
        "    layer1_gradient = layer1_error * activate(layer1,deriv=True)\n",
        "    \n",
        "    #update the weights using the gradients\n",
        "    weight_1 += layer1.T.dot(layer2_gradient)\n",
        "    weight_0 += layer0.T.dot(layer1_gradient)"
      ],
      "execution_count": 21,
      "outputs": [
        {
          "output_type": "stream",
          "text": [
            "Error:0.4992605157018889\n",
            "Error:0.010472325449007145\n",
            "Error:0.00719099967914128\n",
            "Error:0.005790451679254119\n",
            "Error:0.00497056455036363\n",
            "Error:0.0044174494977260205\n"
          ],
          "name": "stdout"
        }
      ]
    },
    {
      "cell_type": "markdown",
      "metadata": {
        "id": "GzMqt9irIPPB",
        "colab_type": "text"
      },
      "source": [
        "Based on the output values above, the error at the last one is smaller than initially error. Below line is to check the layer1 and layer2 after dot product."
      ]
    },
    {
      "cell_type": "code",
      "metadata": {
        "id": "M4oLaqBxI1_2",
        "colab_type": "code",
        "colab": {
          "base_uri": "https://localhost:8080/",
          "height": 153
        },
        "outputId": "825088ef-da8c-4c61-e17b-18fd79342866"
      },
      "source": [
        "print(layer1)\n",
        "print(layer2)"
      ],
      "execution_count": 23,
      "outputs": [
        {
          "output_type": "stream",
          "text": [
            "[[9.38630273e-01 4.99643586e-01 4.84236342e-02 7.32829372e-01]\n",
            " [4.36310798e-02 9.56597112e-01 3.97840344e-05 6.66908863e-01]\n",
            " [9.99942289e-01 9.40578243e-01 9.56505242e-01 4.15680797e-01]\n",
            " [9.81018532e-01 9.97145831e-01 1.69028234e-02 3.41792167e-01]]\n",
            "[[0.00291805]\n",
            " [0.99570697]\n",
            " [0.99597618]\n",
            " [0.00481525]]\n"
          ],
          "name": "stdout"
        }
      ]
    }
  ]
}